{
 "cells": [
  {
   "cell_type": "code",
   "execution_count": 7,
   "id": "685141b1",
   "metadata": {},
   "outputs": [
    {
     "name": "stdout",
     "output_type": "stream",
     "text": [
      "you are placed on 50litres of fuel consumption for 3days and you must work 6 days a week\n",
      "how many weeks ? 1\n",
      "how many months ? 1\n",
      "your fuel consumption in 1 month is, 100 litres\n"
     ]
    }
   ],
   "source": [
    "def kola():\n",
    "    print(\"you are placed on 50litres of fuel consumption for 3days and you must work 6 days a week\")\n",
    "    m = 100\n",
    "    weeks = 4\n",
    "    months = 3\n",
    "    total = m  * weeks * months\n",
    "    i = input (\"how many weeks ? \")\n",
    "    k = input (\"how many months ? \")\n",
    "    x = int (m) * int (i) * int (k)\n",
    "    if int (k) < 2:\n",
    "        print(\"your fuel consumption in\", k, \"month is,\", x, \"litres\")\n",
    "    else:\n",
    "        \n",
    "        print(\"your fuel consumption in\", k, \"months is,\", x, \"litres\")\n",
    "    \n",
    "    \n",
    "\n",
    "kola()"
   ]
  },
  {
   "cell_type": "code",
   "execution_count": null,
   "id": "0961ef6b",
   "metadata": {},
   "outputs": [],
   "source": []
  }
 ],
 "metadata": {
  "kernelspec": {
   "display_name": "Python 3 (ipykernel)",
   "language": "python",
   "name": "python3"
  },
  "language_info": {
   "codemirror_mode": {
    "name": "ipython",
    "version": 3
   },
   "file_extension": ".py",
   "mimetype": "text/x-python",
   "name": "python",
   "nbconvert_exporter": "python",
   "pygments_lexer": "ipython3",
   "version": "3.11.1"
  }
 },
 "nbformat": 4,
 "nbformat_minor": 5
}
